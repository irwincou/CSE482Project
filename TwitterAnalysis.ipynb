{
 "cells": [
  {
   "cell_type": "code",
   "execution_count": 21,
   "metadata": {
    "collapsed": false
   },
   "outputs": [
    {
     "name": "stdout",
     "output_type": "stream",
     "text": [
      "negative\n"
     ]
    }
   ],
   "source": [
    "import nltk\n",
    "\n",
    "positivetweets = [('I love this car', 'positive'),\n",
    "              ('This view is amazing', 'positive'),\n",
    "              ('I feel great this morning', 'positive'),\n",
    "              ('I am so excited about the concert', 'positive'),\n",
    "              ('He is my best friend', 'positive')]\n",
    "\n",
    "neutraltweets = [('This is a car', 'neutral'),\n",
    "              ('This is a view', 'neutral'),\n",
    "              ('Tomorrow morning is in 10 hours', 'neutral'),\n",
    "              ('I am going to go to a concert', 'neutral'),\n",
    "              ('He is my classmate', 'neutral')]\n",
    "\n",
    "negativetweets = [('I do not like this car', 'negative'),\n",
    "              ('This view is horrible', 'negative'),\n",
    "              ('I feel tired this morning', 'negative'),\n",
    "              ('I am not looking forward to the concert', 'negative'),\n",
    "              ('He is my enemy', 'negative')]\n",
    "\n",
    "\n",
    "alltweets = positivetweets + negativetweets\n",
    "tweetswithsentiment = []\n",
    "allwordslist = []\n",
    "tweets = []\n",
    "masterlistoftweets = []\n",
    "for (tweet, positiveornegative) in alltweets:\n",
    "    longenoughwords = []\n",
    "    tweets.append(tweet)\n",
    "    words = tweet.split()\n",
    "    \n",
    "    for word in words:\n",
    "        if len(word) >= 3:\n",
    "            longenoughwords.append(word)\n",
    "            word.lower()\n",
    "            allwordslist.append(word)\n",
    "    masterlistoftweets.append(longenoughwords)\n",
    "    tweetswithsentiment.append((longenoughwords, positiveornegative))\n",
    "\n",
    "\n",
    "allwordslist = nltk.FreqDist(allwordslist)\n",
    "\n",
    "\n",
    "features = allwordslist.keys()\n",
    "\n",
    "\n",
    "def findfeatures(whatwords):\n",
    "    thesearethewords = set(whatwords)\n",
    "    featuresofwords = {}\n",
    "    for feature in features:\n",
    "        featuresofwords['contains(%s)' % word] = (word in thesearethewords)\n",
    "    return featuresofwords\n",
    "        \n",
    "training_set = nltk.classify.apply_features(findfeatures, tweetswithsentiment)\n",
    "\n",
    "classifier = nltk.NaiveBayesClassifier.train(training_set)\n",
    "\n",
    "\n",
    "testtweet = 'I feel tired I am not looking forward to today horrible enemy'\n",
    "\n",
    "print (classifier.classify(findfeatures(testtweet.split())))"
   ]
  },
  {
   "cell_type": "code",
   "execution_count": null,
   "metadata": {
    "collapsed": true
   },
   "outputs": [],
   "source": []
  }
 ],
 "metadata": {
  "anaconda-cloud": {},
  "kernelspec": {
   "display_name": "Python [default]",
   "language": "python",
   "name": "python3"
  },
  "language_info": {
   "codemirror_mode": {
    "name": "ipython",
    "version": 3
   },
   "file_extension": ".py",
   "mimetype": "text/x-python",
   "name": "python",
   "nbconvert_exporter": "python",
   "pygments_lexer": "ipython3",
   "version": "3.5.2"
  }
 },
 "nbformat": 4,
 "nbformat_minor": 1
}
