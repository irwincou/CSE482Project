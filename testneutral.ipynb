{
 "cells": [
  {
   "cell_type": "code",
   "execution_count": null,
   "metadata": {
    "collapsed": true
   },
   "outputs": [],
   "source": [
    "import nltk\n",
    "\n",
    "alltweets = [('I do not like this car', 'negative'), ('This view is horrible', 'negative'), \n",
    "             ('I feel tired this morning', 'negative'),('I am not looking forward to the concert', 'negative'),\n",
    "             ('He is my enemy', 'negative'), ('I love this car', 'positive'),\n",
    "             ('This view is amazing', 'positive'), ('I feel great this morning', 'positive'),\n",
    "             ('I am so excited about the concert', 'positive'),\n",
    "              ('He is my best friend', 'positive'), ('He is okay', 'neutral'), ('This car is okay', 'neutral'),\n",
    "            ('This view is average', 'neutral'), ('That concert was mediocre', 'neutral')]\n",
    "\n",
    "\n",
    "    \n",
    "tweetswithsentiment = []\n",
    "allwordslist = []\n",
    "tweets = []\n",
    "masterlistoftweets = []\n",
    "for (tweet, positiveornegative) in alltweets:\n",
    "    longenoughwords = []\n",
    "    tweets.append(tweet)\n",
    "    words = [x.lower() for x in tweet.split()]\n",
    "    \n",
    "    for word in words:\n",
    "        if len(word) >= 3:\n",
    "            longenoughwords.append(word)\n",
    "            allwordslist.append(word)\n",
    "    masterlistoftweets.append(longenoughwords)\n",
    "    tweetswithsentiment.append((longenoughwords, positiveornegative))\n",
    "\n",
    "allwordslist = nltk.FreqDist(allwordslist)\n",
    "features = allwordslist.keys()\n",
    "\n",
    "def findfeatures(whatwords):\n",
    "    thesearethewords = set(whatwords)\n",
    "    featuresofwords = {}\n",
    "    for feature in features:\n",
    "        featuresofwords['contains(%s)' % feature] = (feature in thesearethewords)\n",
    "    return featuresofwords\n",
    "\n",
    "training_set = nltk.classify.apply_features(findfeatures, tweetswithsentiment)\n",
    "classifier = nltk.NaiveBayesClassifier.train(training_set)\n",
    "\n",
    "\n",
    "tweet = 'I love Jim'\n",
    "print (classifier.classify(findfeatures(tweet.split())))\n",
    "\n",
    "tweet = 'Larry is average'\n",
    "print (classifier.classify(findfeatures(tweet.split())))\n",
    "\n",
    "tweet = 'Chuck is my enemy'\n",
    "print (classifier.classify(findfeatures(tweet.split())))"
   ]
  }
 ],
 "metadata": {
  "kernelspec": {
   "display_name": "Python 3",
   "language": "python",
   "name": "python3"
  },
  "language_info": {
   "codemirror_mode": {
    "name": "ipython",
    "version": 3
   },
   "file_extension": ".py",
   "mimetype": "text/x-python",
   "name": "python",
   "nbconvert_exporter": "python",
   "pygments_lexer": "ipython3",
   "version": "3.6.0"
  }
 },
 "nbformat": 4,
 "nbformat_minor": 2
}
